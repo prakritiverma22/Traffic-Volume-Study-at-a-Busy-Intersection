{
  "nbformat": 4,
  "nbformat_minor": 0,
  "metadata": {
    "colab": {
      "provenance": []
    },
    "kernelspec": {
      "name": "python3",
      "display_name": "Python 3"
    },
    "language_info": {
      "name": "python"
    }
  },
  "cells": [
    {
      "cell_type": "code",
      "execution_count": 1,
      "metadata": {
        "colab": {
          "base_uri": "https://localhost:8080/",
          "height": 0
        },
        "id": "sLAhhreCdUyo",
        "outputId": "46a700d6-142f-4add-d9b9-03c573496115"
      },
      "outputs": [
        {
          "output_type": "stream",
          "name": "stdout",
          "text": [
            "✅ Excel file 'Traffic_Volume_Study.xlsx' created successfully.\n"
          ]
        }
      ],
      "source": [
        "import pandas as pd\n",
        "\n",
        "# ------------------------\n",
        "# 1. Raw Vehicle Counts\n",
        "# ------------------------\n",
        "nsp_to_pitampura = pd.DataFrame({\n",
        "    \"Time\": [\"3:30-4:30\", \"4:30-5:30\", \"5:30-6:30\", \"6:30-7:30\"],\n",
        "    \"Bus/Truck\": [72, 68, 56, 40],\n",
        "    \"Car+Van\": [1304, 1160, 1068, 888],\n",
        "    \"Motorcycle\": [1068, 992, 728, 716],\n",
        "    \"Autorickshaw\": [0, 172, 144, 168],\n",
        "    \"Total\": [2664, 2392, 1996, 1812]\n",
        "})\n",
        "\n",
        "pitampura_to_nsp = pd.DataFrame({\n",
        "    \"Time\": [\"3:30-4:30\", \"4:30-5:30\", \"5:30-6:30\", \"6:30-7:30\"],\n",
        "    \"Bus/Truck\": [60, 64, 36, 24],\n",
        "    \"Car+Van\": [1200, 1244, 1036, 840],\n",
        "    \"Motorcycle\": [936, 792, 532, 600],\n",
        "    \"Autorickshaw\": [140, 100, 80, 144],\n",
        "    \"Total\": [2336, 2200, 1684, 1608]\n",
        "})\n",
        "\n",
        "# ------------------------\n",
        "# 2. Vehicle Composition (%)\n",
        "# ------------------------\n",
        "vehicle_composition = pd.DataFrame({\n",
        "    \"Direction\": [\"NSP→Pitampura\", \"Pitampura→NSP\"],\n",
        "    \"Bus/Truck (%)\": [2.66, 2.25],\n",
        "    \"Car+Van (%)\": [49.86, 55.24],\n",
        "    \"Motorcycle (%)\": [39.53, 36.57],\n",
        "    \"Autorickshaw (%)\": [7.94, 5.93]\n",
        "})\n",
        "\n",
        "# ------------------------\n",
        "# 3. PCU Factors\n",
        "# ------------------------\n",
        "pcu_factors = pd.DataFrame({\n",
        "    \"Vehicle\": [\"Bus/Truck\", \"Car+Van\", \"Motorcycle\", \"Auto-rickshaw\"],\n",
        "    \"PCU Value\": [2.2, 1, 0.5, 1.2]\n",
        "})\n",
        "\n",
        "# ------------------------\n",
        "# 4. Flow Rates (PCU/hr)\n",
        "# ------------------------\n",
        "flow_rates_nsp_to_pit = pd.DataFrame({\n",
        "    \"Time\": [\"3:30-4:30\", \"4:30-5:30\", \"5:30-6:30\", \"6:30-7:30\"],\n",
        "    \"Flow Rate (PCU/hr)\": [2260.4, 2012, 1728, 1536]\n",
        "})\n",
        "\n",
        "flow_rates_pit_to_nsp = pd.DataFrame({\n",
        "    \"Time\": [\"3:30-4:30\", \"4:30-5:30\", \"5:30-6:30\", \"6:30-7:30\"],\n",
        "    \"Flow Rate (PCU/hr)\": [1968, 1900.8, 1477.2, 1348]\n",
        "})\n",
        "\n",
        "# ------------------------\n",
        "# 5. Directional Distribution\n",
        "# ------------------------\n",
        "directional_distribution = pd.DataFrame({\n",
        "    \"Direction\": [\"NSP→Pitampura\", \"Pitampura→NSP\"],\n",
        "    \"PCU/hr\": [2260.4, 1968.0],\n",
        "    \"Total\": [4228.4, 4228.4],\n",
        "    \"Distribution (%)\": [53.45, 46.54]\n",
        "})\n",
        "\n",
        "# ------------------------\n",
        "# 6. ADT and AADT\n",
        "# ------------------------\n",
        "adt_aadt = pd.DataFrame({\n",
        "    \"Direction\": [\"NSP→Pitampura\", \"Pitampura→NSP\"],\n",
        "    \"ADT (PCU)\": [28195, 24972],\n",
        "    \"AADT (PCU)\": [33440, 29617]\n",
        "})\n",
        "\n",
        "# ------------------------\n",
        "# 7. Average Velocity (Greenshield)\n",
        "# ------------------------\n",
        "avg_velocity = pd.DataFrame({\n",
        "    \"Direction\": [\"NSP→Pitampura\", \"Pitampura→NSP\"],\n",
        "    \"Average Velocity (km/hr)\": [8.574, 9.248]\n",
        "})\n",
        "\n",
        "# ------------------------\n",
        "# Export to Excel\n",
        "# ------------------------\n",
        "with pd.ExcelWriter(\"Traffic_Volume_Study.xlsx\", engine=\"openpyxl\") as writer:\n",
        "    nsp_to_pitampura.to_excel(writer, sheet_name=\"Raw Counts NSP→Pit\", index=False)\n",
        "    pitampura_to_nsp.to_excel(writer, sheet_name=\"Raw Counts Pit→NSP\", index=False)\n",
        "    vehicle_composition.to_excel(writer, sheet_name=\"Vehicle Composition\", index=False)\n",
        "    pcu_factors.to_excel(writer, sheet_name=\"PCU Factors\", index=False)\n",
        "    flow_rates_nsp_to_pit.to_excel(writer, sheet_name=\"Flow NSP→Pit\", index=False)\n",
        "    flow_rates_pit_to_nsp.to_excel(writer, sheet_name=\"Flow Pit→NSP\", index=False)\n",
        "    directional_distribution.to_excel(writer, sheet_name=\"Directional Distribution\", index=False)\n",
        "    adt_aadt.to_excel(writer, sheet_name=\"ADT & AADT\", index=False)\n",
        "    avg_velocity.to_excel(writer, sheet_name=\"Average Velocity\", index=False)\n",
        "\n",
        "print(\"✅ Excel file 'Traffic_Volume_Study.xlsx' created successfully.\")\n"
      ]
    },
    {
      "cell_type": "code",
      "source": [
        "import pandas as pd\n",
        "\n",
        "# File path (update this with your actual path)\n",
        "file_path = \"Traffic_Volume_Study.xlsx\"\n",
        "\n",
        "# Define PCU factors\n",
        "pcu_factors = {\n",
        "    \"Bus/Truck\": 2.2,\n",
        "    \"Car+Van\": 1.0,\n",
        "    \"Motorcycle\": 0.5,\n",
        "    \"Autorickshaw\": 1.2\n",
        "}\n",
        "\n",
        "# Function to calculate PCU for each row\n",
        "def calculate_pcu(row):\n",
        "    return (row.get(\"Bus/Truck\", 0) * pcu_factors[\"Bus/Truck\"] +\n",
        "            row.get(\"Car+Van\", 0) * pcu_factors[\"Car+Van\"] +\n",
        "            row.get(\"Motorcycle\", 0) * pcu_factors[\"Motorcycle\"] +\n",
        "            row.get(\"Autorickshaw\", 0) * pcu_factors[\"Autorickshaw\"])\n",
        "\n",
        "# Load the Excel file\n",
        "xls = pd.ExcelFile(file_path)\n",
        "\n",
        "# Dictionary to hold processed data\n",
        "processed_data = {}\n",
        "\n",
        "# Loop through all sheets\n",
        "for sheet in xls.sheet_names:\n",
        "    df = pd.read_excel(file_path, sheet_name=sheet)\n",
        "\n",
        "    # Check if required columns exist in the sheet\n",
        "    required_cols = {\"Bus/Truck\", \"Car+Van\", \"Motorcycle\", \"Autorickshaw\"}\n",
        "    if required_cols.issubset(df.columns):\n",
        "        df[\"PCU/hr\"] = df.apply(calculate_pcu, axis=1)\n",
        "\n",
        "    processed_data[sheet] = df\n",
        "\n",
        "# Save results into a new Excel file\n",
        "output_path = \"Traffic_Volume_with_PCU_AllSheets.xlsx\"\n",
        "with pd.ExcelWriter(output_path, engine=\"openpyxl\") as writer:\n",
        "    for sheet_name, df in processed_data.items():\n",
        "        df.to_excel(writer, sheet_name=sheet_name, index=False)\n",
        "\n",
        "print(\"File saved as:\", output_path)"
      ],
      "metadata": {
        "colab": {
          "base_uri": "https://localhost:8080/",
          "height": 0
        },
        "id": "Jthihuwoh0uE",
        "outputId": "1052a711-c35b-4758-bde6-cf3d4e576d9f"
      },
      "execution_count": 2,
      "outputs": [
        {
          "output_type": "stream",
          "name": "stdout",
          "text": [
            "File saved as: Traffic_Volume_with_PCU_AllSheets.xlsx\n"
          ]
        }
      ]
    },
    {
      "cell_type": "code",
      "source": [
        "import pandas as pd\n",
        "\n",
        "# File path (update this with your file location)\n",
        "file_path = \"Traffic_Volume_with_PCU_AllSheets.xlsx\"\n",
        "\n",
        "# Load the processed sheets\n",
        "df_nsp_pit = pd.read_excel(file_path, sheet_name=\"Raw Counts NSP→Pit\")\n",
        "df_pit_nsp = pd.read_excel(file_path, sheet_name=\"Raw Counts Pit→NSP\")\n",
        "\n",
        "# Find peak hour for each direction\n",
        "peak_nsp_pit = df_nsp_pit.loc[df_nsp_pit[\"PCU/hr\"].idxmax()]\n",
        "peak_pit_nsp = df_pit_nsp.loc[df_pit_nsp[\"PCU/hr\"].idxmax()]\n",
        "\n",
        "print(\"NSP → Pitampura Peak Hour:\")\n",
        "print(f\"Time: {peak_nsp_pit['Time']}, PCU/hr: {peak_nsp_pit['PCU/hr']}\")\n",
        "\n",
        "print(\"\\nPitampura → NSP Peak Hour:\")\n",
        "print(f\"Time: {peak_pit_nsp['Time']}, PCU/hr: {peak_pit_nsp['PCU/hr']}\")"
      ],
      "metadata": {
        "colab": {
          "base_uri": "https://localhost:8080/",
          "height": 0
        },
        "id": "zH-7msvDiYfV",
        "outputId": "97063d48-c4dc-445d-f12b-2e0a294d13b7"
      },
      "execution_count": 3,
      "outputs": [
        {
          "output_type": "stream",
          "name": "stdout",
          "text": [
            "NSP → Pitampura Peak Hour:\n",
            "Time: 4:30-5:30, PCU/hr: 2012.0\n",
            "\n",
            "Pitampura → NSP Peak Hour:\n",
            "Time: 3:30-4:30, PCU/hr: 1968.0\n"
          ]
        }
      ]
    },
    {
      "cell_type": "code",
      "source": [
        "import pandas as pd\n",
        "\n",
        "# File path (update this with your file location)\n",
        "file_path = \"Traffic_Volume_with_PCU_AllSheets.xlsx\"\n",
        "\n",
        "# Load the processed sheets\n",
        "df_nsp_pit = pd.read_excel(file_path, sheet_name=\"Raw Counts NSP→Pit\")\n",
        "df_pit_nsp = pd.read_excel(file_path, sheet_name=\"Raw Counts Pit→NSP\")\n",
        "\n",
        "# Find peak hour for each direction\n",
        "peak_nsp_pit = df_nsp_pit.loc[df_nsp_pit[\"PCU/hr\"].idxmax()]\n",
        "peak_pit_nsp = df_pit_nsp.loc[df_pit_nsp[\"PCU/hr\"].idxmax()]\n",
        "\n",
        "# IRC standard for 2-lane undivided urban road\n",
        "irc_capacity = 2400\n",
        "\n",
        "def check_saturation(peak_value):\n",
        "    if peak_value >= irc_capacity:\n",
        "        return \"Above capacity → Severe congestion\"\n",
        "    elif peak_value >= 0.9 * irc_capacity:\n",
        "        return \"Nearly saturated → High congestion\"\n",
        "    else:\n",
        "        return \"Below capacity → Traffic flow acceptable\"\n",
        "\n",
        "# Results\n",
        "print(\"NSP → Pitampura\")\n",
        "print(f\"Peak Hour: {peak_nsp_pit['Time']}, PCU/hr: {peak_nsp_pit['PCU/hr']}\")\n",
        "print(\"Status:\", check_saturation(peak_nsp_pit[\"PCU/hr\"]))\n",
        "\n",
        "print(\"\\nPitampura → NSP\")\n",
        "print(f\"Peak Hour: {peak_pit_nsp['Time']}, PCU/hr: {peak_pit_nsp['PCU/hr']}\")\n",
        "print(\"Status:\", check_saturation(peak_pit_nsp[\"PCU/hr\"]))"
      ],
      "metadata": {
        "colab": {
          "base_uri": "https://localhost:8080/",
          "height": 0
        },
        "id": "ED8z3zd3jGfO",
        "outputId": "9456b232-9863-4bba-a496-f74be510ec31"
      },
      "execution_count": 4,
      "outputs": [
        {
          "output_type": "stream",
          "name": "stdout",
          "text": [
            "NSP → Pitampura\n",
            "Peak Hour: 4:30-5:30, PCU/hr: 2012.0\n",
            "Status: Below capacity → Traffic flow acceptable\n",
            "\n",
            "Pitampura → NSP\n",
            "Peak Hour: 3:30-4:30, PCU/hr: 1968.0\n",
            "Status: Below capacity → Traffic flow acceptable\n"
          ]
        }
      ]
    },
    {
      "cell_type": "code",
      "source": [
        "import pandas as pd\n",
        "\n",
        "# Peak PCU values (you can also fetch these from earlier calculations)\n",
        "peak_nsp_pit = 2260.4\n",
        "peak_pit_nsp = 1968.0\n",
        "\n",
        "# Step 5: Directional Distribution\n",
        "total_peak = peak_nsp_pit + peak_pit_nsp\n",
        "dist_nsp_pit = (peak_nsp_pit / total_peak) * 100\n",
        "dist_pit_nsp = (peak_pit_nsp / total_peak) * 100\n",
        "\n",
        "print(\"Step 5: Directional Distribution\")\n",
        "print(f\"NSP → Pitampura: {dist_nsp_pit:.2f}%\")\n",
        "print(f\"Pitampura → NSP: {dist_pit_nsp:.2f}%\")\n",
        "\n",
        "if dist_nsp_pit > dist_pit_nsp:\n",
        "    print(\"Interpretation: Evening peak direction dominance (NSP → Pitampura).\")\n",
        "else:\n",
        "    print(\"Interpretation: Evening peak direction dominance (Pitampura → NSP).\")\n",
        "\n",
        "# Step 6: Level of Service (LOS)\n",
        "# Based on the study → LOS = F (jammed flow, very poor quality of service)\n",
        "\n",
        "print(\"\\nStep 6: Level of Service (LOS)\")\n",
        "print(\"According to Greenshields’ model and the paper's analysis:\")\n",
        "print(\"LOS = F → Jammed flow, oversaturated, very poor service quality.\")"
      ],
      "metadata": {
        "id": "BgC8RFlwjzs3",
        "outputId": "39cc8f2d-ca79-4276-8882-2fa8b78c6eff",
        "colab": {
          "base_uri": "https://localhost:8080/",
          "height": 0
        }
      },
      "execution_count": 5,
      "outputs": [
        {
          "output_type": "stream",
          "name": "stdout",
          "text": [
            "Step 5: Directional Distribution\n",
            "NSP → Pitampura: 53.46%\n",
            "Pitampura → NSP: 46.54%\n",
            "Interpretation: Evening peak direction dominance (NSP → Pitampura).\n",
            "\n",
            "Step 6: Level of Service (LOS)\n",
            "According to Greenshields’ model and the paper's analysis:\n",
            "LOS = F → Jammed flow, oversaturated, very poor service quality.\n"
          ]
        }
      ]
    }
  ]
}